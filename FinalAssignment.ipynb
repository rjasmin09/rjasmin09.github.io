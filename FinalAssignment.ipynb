{
 "cells": [
  {
   "cell_type": "code",
   "execution_count": 7,
   "id": "7b98109d",
   "metadata": {},
   "outputs": [],
   "source": [
    "import requests\n",
    "from bs4 import BeautifulSoup\n",
    "import pandas as pd\n",
    "\n",
    "# !pip3 install pandas"
   ]
  },
  {
   "cell_type": "code",
   "execution_count": 18,
   "id": "54bd2f8c",
   "metadata": {},
   "outputs": [
    {
     "data": {
      "text/plain": [
       "[<h2 class=\"sds-heading--3 lead-form-heading\">Contact seller</h2>,\n",
       " <h2 class=\"title\">2018 Ford Focus SE</h2>,\n",
       " <h2 class=\"title\">2018 Ford Focus SE</h2>,\n",
       " <h2 class=\"title\">2014 Ford F-150 STX</h2>,\n",
       " <h2 class=\"title\">2014 Ford Mustang GT</h2>,\n",
       " <h2 class=\"title\">2003 Ford Focus SE</h2>,\n",
       " <h2 class=\"title\">2018 Ford Explorer Limited</h2>,\n",
       " <h2 class=\"title\">2016 Ford F-250 XLT</h2>,\n",
       " <h2 class=\"title\">2020 Ford Expedition XLT</h2>,\n",
       " <h2 class=\"title\">2019 Ford Expedition Platinum</h2>,\n",
       " <h2 class=\"title\">2018 Ford F-150 XLT</h2>,\n",
       " <h2 class=\"title\">2019 Ford Fusion Energi Titanium</h2>,\n",
       " <h2 class=\"title\">2018 Ford Expedition Platinum</h2>,\n",
       " <h2 class=\"title\">2018 Ford Focus SE</h2>,\n",
       " <h2 class=\"title\">2016 Ford F-250 XLT</h2>,\n",
       " <h2 class=\"title\">2018 Ford F-150 Platinum</h2>,\n",
       " <h2 class=\"title\">2020 Ford F-150 XLT</h2>,\n",
       " <h2 class=\"title\">2017 Ford Mustang GT</h2>,\n",
       " <h2 class=\"title\">2020 Ford F-150 Raptor</h2>,\n",
       " <h2 class=\"title\">2021 Ford F-150 Lariat</h2>,\n",
       " <h2 class=\"title\">2017 Ford Mustang GT Premium</h2>,\n",
       " <h2 class=\"sds-modal__title sds-heading--2\">Notable highlights</h2>]"
      ]
     },
     "execution_count": 18,
     "metadata": {},
     "output_type": "execute_result"
    }
   ],
   "source": [
    "try:\n",
    "#     r = requests.get('https://www.kbb.com/honda/?intent=new')\n",
    "    r = requests.get('https://www.cars.com/shopping/results/?dealer_id=&keyword=&list_price_max=&list_price_min=&makes[]=ford&maximum_distance=20&mileage_max=&page_size=20&sort=best_match_desc&stock_type=all&year_max=&year_min=&zip=20741')\n",
    "except HTTPError as e:\n",
    "    print(e)\n",
    "    \n",
    "bs = BeautifulSoup(r.content, 'html.parser')\n",
    "# tbl = bs.find_all('h2')\n",
    "# tbl\n",
    "# pbs = bs.prettify()\n",
    "# pbs"
   ]
  },
  {
   "cell_type": "code",
   "execution_count": null,
   "id": "bccfec5b",
   "metadata": {},
   "outputs": [],
   "source": []
  }
 ],
 "metadata": {
  "kernelspec": {
   "display_name": "Python 3 (ipykernel)",
   "language": "python",
   "name": "python3"
  },
  "language_info": {
   "codemirror_mode": {
    "name": "ipython",
    "version": 3
   },
   "file_extension": ".py",
   "mimetype": "text/x-python",
   "name": "python",
   "nbconvert_exporter": "python",
   "pygments_lexer": "ipython3",
   "version": "3.10.1"
  }
 },
 "nbformat": 4,
 "nbformat_minor": 5
}
